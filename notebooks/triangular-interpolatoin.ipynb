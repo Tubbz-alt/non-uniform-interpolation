{
 "cells": [
  {
   "cell_type": "code",
   "execution_count": 27,
   "metadata": {},
   "outputs": [],
   "source": [
    "import numpy as np\n",
    "import torch\n",
    "import torch.nn as nn\n",
    "from PIL import Image\n",
    "\n",
    "img = Image.open('/tmp/skoroki/datasets/ffhq/thumbnails128x128/00000.png')"
   ]
  },
  {
   "cell_type": "code",
   "execution_count": 52,
   "metadata": {},
   "outputs": [],
   "source": [
    "import math\n",
    "from tqdm import tqdm\n",
    "from torch import Tensor\n",
    "from typing import Tuple, List\n",
    "\n",
    "\n",
    "class Triangle:\n",
    "    def __init__(self, v0, v1, v2):\n",
    "        self.v0 = v0\n",
    "        self.v1 = v1\n",
    "        self.v2 = v2\n",
    "        \n",
    "    def get_min_pos(self):\n",
    "        return (\n",
    "            min(self.v0[0].item(), self.v1[0].item(), self.v2[0].item()),\n",
    "            min(self.v0[1].item(), self.v1[1].item(), self.v2[1].item())\n",
    "        )\n",
    "    \n",
    "    def get_max_pos(self):\n",
    "        return (\n",
    "            max(self.v0[0].item(), self.v1[0].item(), self.v2[0].item()),\n",
    "            max(self.v0[1].item(), self.v1[1].item(), self.v2[1].item())\n",
    "        )\n",
    "    \n",
    "    def compute_color(self, bar_coords: Tuple[float, float, float], img: Tensor):\n",
    "        return self.get_color(self.v0, img) * bar_coords[0] + \\\n",
    "               self.get_color(self.v1, img) * bar_coords[1] + \\\n",
    "               self.get_color(self.v2, img) * bar_coords[2]\n",
    "    \n",
    "    def get_edge(self, edge_idx: int):\n",
    "        if edge_idx == 0:\n",
    "            return self.v2 - self.v1\n",
    "        elif edge_idx == 1:\n",
    "            return self.v0 - self.v2\n",
    "        else:\n",
    "            return self.v1 - self.v0\n",
    "    \n",
    "    def get_color(self, vertex, img):\n",
    "        #return img[vertex[1].round().long().item()][vertex[0].round().long().item()]\n",
    "        return get_color(vertex[0], vertex[1], img)\n",
    "\n",
    "\n",
    "def get_color(x: float, y: float, image: Tensor):\n",
    "    \"\"\"\n",
    "    Selects a color from an image using bilinear interpolation\n",
    "    \"\"\"\n",
    "    i, j = math.floor(y.item()), math.floor(x.item())\n",
    "    c0 = image[max(i, 0)][max(j, 0)]\n",
    "    c1 = image[max(i, 0)][min(j+1, image.shape[1] - 1)]\n",
    "    c2 = image[min(i+1, image.shape[0] - 1)][min(j+1, image.shape[1] - 1)]\n",
    "    c3 = image[min(i+1, image.shape[0] - 1)][max(j, 0)]\n",
    "    w_top = y - i\n",
    "    w_left = x - j\n",
    "    \n",
    "    # Step 1: interpolate along x-axis\n",
    "    color_top = c0 * (1 - w_left) + c1 * w_left\n",
    "    color_bot = c3 * (1 - w_left) + c2 * w_left\n",
    "    \n",
    "    # Step 2: interpolate along y-axis\n",
    "    color = color_top * (1 - w_top) + w_top * color_bot\n",
    "    \n",
    "    return color\n",
    "\n",
    "\n",
    "def triangle_interpolation(coords: Tensor, img: Tensor):\n",
    "    \"\"\"\n",
    "    Takes a full image, selects coordinates from it and performs the interpolation\n",
    "    Coords have the shape [grid_height, grid_width, 2]\n",
    "    \"\"\"\n",
    "    grid_height, grid_width = coords.shape[0], coords.shape[1]\n",
    "    \n",
    "    # Let's collect the triangles first\n",
    "    print('Collecting triangles...')\n",
    "    triangles = []\n",
    "    for i in range(grid_height - 1):\n",
    "        for j in range(grid_width - 1):\n",
    "            if i % 2 == j % 2:\n",
    "                v0, v1, v2 = coords[i][j], coords[i+1][j+1], coords[i+1][j]\n",
    "                u0, u1, u2 = coords[i][j], coords[i][j+1], coords[i+1][j+1]\n",
    "            else:\n",
    "                v0, v1, v2 = coords[i][j], coords[i][j+1], coords[i+1][j]\n",
    "                u0, u1, u2 = coords[i+1][j], coords[i][j+1], coords[i+1][j+1]\n",
    "            \n",
    "            triangles.append(Triangle(v0, v1, v2))\n",
    "            triangles.append(Triangle(u0, u1, u2))\n",
    "    \n",
    "    # Then, we loop over the triangles and rasterize them using barycentric coordinates\n",
    "    return rasterize_triangles(triangles, img.shape[0], img.shape[1], img)\n",
    "    \n",
    "    \n",
    "def rasterize_triangles(triangles: List[Triangle], h, w, full_image: Tensor) -> Tensor:\n",
    "    \"\"\"\n",
    "    Takes the triangles and rasterizes them to a given height and width.\n",
    "    Also takes the full image for querying colors\n",
    "    \"\"\"\n",
    "    result = torch.zeros_like(full_image)\n",
    "#     num_repeated_pixels = 0\n",
    "    \n",
    "    for triangle_idx, triangle in tqdm(enumerate(triangles), desc=f'Rasterizing {len(triangles)} triangles', total=len(triangles)):\n",
    "        min_pos, max_pos = triangle.get_min_pos(), triangle.get_max_pos()\n",
    "        triangle_area = compute_det_from_points(triangle.v0, triangle.v1, triangle.v2);\n",
    "        \n",
    "        #print('Triangle:', triangle.v0, triangle.v1, triangle.v2)\n",
    "        \n",
    "        for y in range(math.floor(min_pos[1]), math.ceil(max_pos[1] + 1)):\n",
    "            for x in range(math.floor(min_pos[0]), math.ceil(max_pos[0] + 1)):\n",
    "                pixel_pos = (x, y)\n",
    "                bar_coords_raw = (\n",
    "                    compute_det_from_points(triangle.v1, triangle.v2, pixel_pos),\n",
    "                    compute_det_from_points(triangle.v2, triangle.v0, pixel_pos),\n",
    "                    compute_det_from_points(triangle.v0, triangle.v1, pixel_pos),\n",
    "                )\n",
    "                #print(f'Bar coords', bar_coords_raw)\n",
    "\n",
    "                if bar_coords_raw[0] < 0 or bar_coords_raw[1] < 0 or bar_coords_raw[2] < 0:\n",
    "                    continue\n",
    "                    \n",
    "                # Perform top-left check\n",
    "#                 if bar_coords_raw[0] == 0:\n",
    "#                     if not check_top_left_rule(triangle.get_edge(0)):\n",
    "#                         print(f'[{triangle_idx}] skip {x}, {y} for v0', triangle.get_edge(0))\n",
    "#                         continue\n",
    "#                 if bar_coords_raw[1] == 0:\n",
    "#                     if not check_top_left_rule(triangle.get_edge(1)):\n",
    "#                         print(f'[{triangle_idx}] skip {x}, {y} for v1', triangle.get_edge(1))\n",
    "#                         continue\n",
    "#                 if bar_coords_raw[2] == 0:\n",
    "#                     if not check_top_left_rule(triangle.get_edge(2)):\n",
    "#                         print(f'[{triangle_idx}] skip {x}, {y} for v2', triangle.get_edge(2))\n",
    "#                         continue\n",
    "\n",
    "                area = sum(bar_coords_raw)\n",
    "                bar_coords = (bar_coords_raw[0] / area, bar_coords_raw[1] / area, bar_coords_raw[2] / area)\n",
    "                \n",
    "#                 if result[y][x].abs().sum() != 0:\n",
    "#                     num_repeated_pixels += 1\n",
    "#                     print(f'We have already colored this pixel ({x}, {y}):', result[y][x])\n",
    "                #print(f'Setting color for {y}, {x}:', triangle.compute_color(bar_coords, full_image))\n",
    "                result[y][x] = triangle.compute_color(bar_coords, full_image)\n",
    "                #print(triangle.v0, triangle.v1, triangle.v2)\n",
    "\n",
    "#     print(f'Num pixels filled more than once: {num_repeated_pixels}')\n",
    "    return result.permute(2, 0, 1)\n",
    "\n",
    "\n",
    "def check_top_left_rule(edge) -> bool:\n",
    "    return ((edge[1] == 0 and edge[0] > 0) or (edge[1] > 0))\n",
    "\n",
    "\n",
    "# def compute_det_from_points(u: Tuple[float, float], v: Tuple[float, float], point: Tuple[float, float]) -> float:\n",
    "#     return (point[0] - u[0]) * (v[1] - u[1]) - (point[1] - u[1]) * (v[0] - u[0])\n",
    "\n",
    "def compute_det_from_points(A: Tuple[float, float], B: Tuple[float, float], C: Tuple[float, float]) -> float:\n",
    "    # Compute the signed area of the triangle spanned by vectors AB, AC\n",
    "#     AB = B - A\n",
    "#     AC = C - A\n",
    "#     return AB[0] * AC[1] - AB[1] * AC[0]\n",
    "    return ((B[0] - A[0]) * (C[1] - A[1]) - (B[1] - A[1]) * (C[0] - A[0])) / 2"
   ]
  },
  {
   "cell_type": "code",
   "execution_count": 53,
   "metadata": {},
   "outputs": [
    {
     "name": "stderr",
     "output_type": "stream",
     "text": [
      "Rasterizing 8 triangles: 100%|██████████| 8/8 [00:00<00:00, 185.10it/s]"
     ]
    },
    {
     "name": "stdout",
     "output_type": "stream",
     "text": [
      "Collecting triangles...\n"
     ]
    },
    {
     "name": "stderr",
     "output_type": "stream",
     "text": [
      "\n"
     ]
    },
    {
     "data": {
      "text/plain": [
       "<matplotlib.image.AxesImage at 0x2b9a697a9f60>"
      ]
     },
     "execution_count": 53,
     "metadata": {},
     "output_type": "execute_result"
    },
    {
     "data": {
      "image/png": "[encoded data removed]",
      "text/plain": [
       "<Figure size 432x288 with 2 Axes>"
      ]
     },
     "metadata": {
      "needs_background": "light"
     },
     "output_type": "display_data"
    }
   ],
   "source": [
    "img = torch.linspace(1, 0, 4).view(-1, 1).repeat(1, 4).unsqueeze(2)\n",
    "x_coords = torch.tensor([0.0, 1.5, 3.0]).view(1, -1).repeat(3, 1).float()\n",
    "coords = torch.stack([x_coords, x_coords.t()]).permute(1, 2, 0)\n",
    "# img = torch.linspace(0, 1, 2).view(-1, 1).repeat(1, 2).unsqueeze(2)\n",
    "# x_coords = torch.tensor([0.0, 1.0]).view(1, -1).repeat(2, 1).float()\n",
    "# coords = torch.stack([x_coords, x_coords.t()]).permute(1, 2, 0)\n",
    "result = triangle_interpolation(coords, img)\n",
    "\n",
    "import matplotlib.pyplot as plt\n",
    "\n",
    "plt.subplot(121)\n",
    "plt.imshow(img.squeeze(2))\n",
    "\n",
    "plt.subplot(122)\n",
    "plt.imshow(result.squeeze(0))"
   ]
  },
  {
   "cell_type": "code",
   "execution_count": 54,
   "metadata": {},
   "outputs": [
    {
     "name": "stderr",
     "output_type": "stream",
     "text": [
      "Rasterizing 7938 triangles:   0%|          | 0/7938 [00:00<?, ?it/s]"
     ]
    },
    {
     "name": "stdout",
     "output_type": "stream",
     "text": [
      "Collecting triangles...\n"
     ]
    },
    {
     "name": "stderr",
     "output_type": "stream",
     "text": [
      "Rasterizing 7938 triangles: 100%|██████████| 7938/7938 [00:26<00:00, 298.78it/s]\n"
     ]
    },
    {
     "data": {
      "image/png": "[encoded data removed]",
      "text/plain": [
       "<PIL.Image.Image image mode=L size=128x128 at 0x2B9A6932D0F0>"
      ]
     },
     "execution_count": 54,
     "metadata": {},
     "output_type": "execute_result"
    }
   ],
   "source": [
    "import torchvision.transforms.functional as TVF\n",
    "\n",
    "img = Image.open('/tmp/skoroki/datasets/ffhq/thumbnails128x128/00000.png').convert('LA')\n",
    "img = TVF.to_grayscale(img)\n",
    "img = torch.from_numpy(np.array(img)).unsqueeze(2)\n",
    "img_size = img.shape[0]\n",
    "grid_size = img_size // 2\n",
    "x_coords = torch.linspace(0.0, img_size - 1, grid_size).view(1, -1).repeat(grid_size, 1).float()\n",
    "# x_coords = torch.arange(0, 127, 2).view(1, -1).repeat(grid_size, 1).float()\n",
    "coords = torch.stack([x_coords, x_coords.t()]).permute(1, 2, 0)\n",
    "result = triangle_interpolation(coords, img)\n",
    "TVF.to_pil_image(result)"
   ]
  },
  {
   "cell_type": "code",
   "execution_count": 55,
   "metadata": {},
   "outputs": [
    {
     "data": {
      "image/png": "[encoded data removed]",
      "text/plain": [
       "<PIL.Image.Image image mode=L size=128x128 at 0x2B9A6966F9B0>"
      ]
     },
     "execution_count": 55,
     "metadata": {},
     "output_type": "execute_result"
    }
   ],
   "source": [
    "TVF.resize(TVF.resize(TVF.to_pil_image(img.permute(2,0,1)), size=(grid_size,grid_size), interpolation=4), size=(128,128), interpolation=1)"
   ]
  },
  {
   "cell_type": "code",
   "execution_count": 56,
   "metadata": {},
   "outputs": [
    {
     "data": {
      "image/png": "[encoded data removed]",
      "text/plain": [
       "<PIL.Image.Image image mode=L size=128x128 at 0x2B9A6966FA90>"
      ]
     },
     "execution_count": 56,
     "metadata": {},
     "output_type": "execute_result"
    }
   ],
   "source": [
    "TVF.resize(TVF.resize(TVF.to_pil_image(img.permute(2,0,1)), size=(grid_size,grid_size)), size=(128,128))"
   ]
  },
  {
   "cell_type": "code",
   "execution_count": 57,
   "metadata": {},
   "outputs": [
    {
     "data": {
      "image/png": "[encoded data removed]",
      "text/plain": [
       "<PIL.Image.Image image mode=L size=128x128 at 0x2B9A6966F1D0>"
      ]
     },
     "execution_count": 57,
     "metadata": {},
     "output_type": "execute_result"
    }
   ],
   "source": [
    "TVF.to_pil_image(img.permute(2, 0, 1))"
   ]
  }
 ],
 "metadata": {
  "kernelspec": {
   "display_name": "Python 3",
   "language": "python",
   "name": "python3"
  },
  "language_info": {
   "codemirror_mode": {
    "name": "ipython",
    "version": 3
   },
   "file_extension": ".py",
   "mimetype": "text/x-python",
   "name": "python",
   "nbconvert_exporter": "python",
   "pygments_lexer": "ipython3",
   "version": "3.7.3"
  }
 },
 "nbformat": 4,
 "nbformat_minor": 4
}
