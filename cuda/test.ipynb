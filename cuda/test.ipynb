{
 "cells": [
  {
   "cell_type": "code",
   "execution_count": 1,
   "metadata": {},
   "outputs": [
    {
     "name": "stdout",
     "output_type": "stream",
     "text": [
      "Using /tmp/torch_extensions as PyTorch extensions root...\n",
      "Detected CUDA files, patching ldflags\n",
      "Emitting ninja build file /tmp/torch_extensions/gp_interp_cuda/build.ninja...\n",
      "Building extension module gp_interp_cuda...\n",
      "Allowing ninja to set a default number of workers... (overridable by setting the environment variable MAX_JOBS=N)\n",
      "Loading extension module gp_interp_cuda...\n",
      "Num coords: 4\n",
      "Doing a forward pass...\n",
      "Doing a backward pass...\n",
      "Loss: 0.12815387547016144\n",
      "Success!\n"
     ]
    },
    {
     "data": {
      "text/plain": [
       "<matplotlib.image.AxesImage at 0x2b70122f6dd8>"
      ]
     },
     "execution_count": 1,
     "metadata": {},
     "output_type": "execute_result"
    },
    {
     "data": {
      "image/png": "[encoded data removed]",
      "text/plain": [
       "<Figure size 432x288 with 2 Axes>"
      ]
     },
     "metadata": {
      "needs_background": "light"
     },
     "output_type": "display_data"
    }
   ],
   "source": [
    "from torch.utils.cpp_extension import load\n",
    "\n",
    "gp_interp_cuda = load('gp_interp_cuda', ['gp_interp_cuda.cpp', 'gp_interp_cuda_kernel.cu'], verbose=True)\n",
    "\n",
    "import sys; sys.path.extend(['.', '../cuda'])\n",
    "\n",
    "import numpy as np\n",
    "import torch\n",
    "import torch.nn as nn\n",
    "import matplotlib.pyplot as plt\n",
    "from PIL import Image\n",
    "import torchvision.transforms.functional as TVF\n",
    "\n",
    "from gp_interp import GPInterp\n",
    "\n",
    "device = 'cuda'\n",
    "# img_pil = Image.open('/tmp/skoroki/datasets/ffhq/thumbnails128x128/00000.png')\n",
    "# img_pil = Image.open('./water.jpg')\n",
    "# img = TVF.to_tensor(img_pil).to(device)\n",
    "size = 3\n",
    "img = torch.linspace(1, 0, size).view(-1, 1).repeat(1, size).unsqueeze(2).to(device).permute(2, 0, 1)\n",
    "torch.manual_seed(42)\n",
    "img = torch.rand_like(img.cpu()).to(img.device)\n",
    "gp = GPInterp(img.shape[1], img.shape[2], 0.8, 1.0, 1)\n",
    "# gp.means = nn.Parameter(torch.tensor([[1.0, 1.0]]))\n",
    "gp.to(device)\n",
    "\n",
    "print('Num coords:', len(gp.means))\n",
    "\n",
    "print('Doing a forward pass...')\n",
    "out = gp(img)\n",
    "\n",
    "print('Doing a backward pass...')\n",
    "loss = (out - img).abs().mean()\n",
    "loss.backward()\n",
    "print('Loss:', loss.item())\n",
    "print('Success!')\n",
    "\n",
    "# TVF.to_pil_image(out.cpu())\n",
    "plt.subplot(121)\n",
    "plt.imshow(img[0].detach().cpu())\n",
    "\n",
    "plt.subplot(122)\n",
    "plt.imshow(out[0].detach().cpu())"
   ]
  },
  {
   "cell_type": "code",
   "execution_count": 2,
   "metadata": {},
   "outputs": [
    {
     "data": {
      "text/plain": [
       "tensor([[-0.0061, -0.0061],\n",
       "        [ 0.0027,  0.0186],\n",
       "        [-0.0018,  0.0018],\n",
       "        [ 0.0065, -0.0457]], device='cuda:0')"
      ]
     },
     "execution_count": 2,
     "metadata": {},
     "output_type": "execute_result"
    }
   ],
   "source": [
    "gp.means.grad"
   ]
  },
  {
   "cell_type": "code",
   "execution_count": 126,
   "metadata": {},
   "outputs": [],
   "source": [
    "tqdm._instances.clear()"
   ]
  },
  {
   "cell_type": "code",
   "execution_count": 127,
   "metadata": {},
   "outputs": [
    {
     "name": "stderr",
     "output_type": "stream",
     "text": [
      "  0%|          | 20/5000 [00:00<00:51, 96.28it/s]"
     ]
    },
    {
     "name": "stdout",
     "output_type": "stream",
     "text": [
      "0.00152\n"
     ]
    },
    {
     "name": "stderr",
     "output_type": "stream",
     "text": [
      " 10%|█         | 522/5000 [00:04<00:38, 115.56it/s]"
     ]
    },
    {
     "name": "stdout",
     "output_type": "stream",
     "text": [
      "0.00141\n"
     ]
    },
    {
     "name": "stderr",
     "output_type": "stream",
     "text": [
      " 20%|██        | 1014/5000 [00:08<00:34, 115.89it/s]"
     ]
    },
    {
     "name": "stdout",
     "output_type": "stream",
     "text": [
      "0.00138\n"
     ]
    },
    {
     "name": "stderr",
     "output_type": "stream",
     "text": [
      " 30%|███       | 1518/5000 [00:13<00:30, 115.57it/s]"
     ]
    },
    {
     "name": "stdout",
     "output_type": "stream",
     "text": [
      "0.00137\n"
     ]
    },
    {
     "name": "stderr",
     "output_type": "stream",
     "text": [
      " 40%|████      | 2022/5000 [00:17<00:25, 114.84it/s]"
     ]
    },
    {
     "name": "stdout",
     "output_type": "stream",
     "text": [
      "0.00136\n"
     ]
    },
    {
     "name": "stderr",
     "output_type": "stream",
     "text": [
      " 50%|█████     | 2514/5000 [00:21<00:21, 115.45it/s]"
     ]
    },
    {
     "name": "stdout",
     "output_type": "stream",
     "text": [
      "0.00136\n"
     ]
    },
    {
     "name": "stderr",
     "output_type": "stream",
     "text": [
      " 60%|██████    | 3018/5000 [00:26<00:17, 114.90it/s]"
     ]
    },
    {
     "name": "stdout",
     "output_type": "stream",
     "text": [
      "0.00136\n"
     ]
    },
    {
     "name": "stderr",
     "output_type": "stream",
     "text": [
      " 70%|███████   | 3522/5000 [00:30<00:12, 115.30it/s]"
     ]
    },
    {
     "name": "stdout",
     "output_type": "stream",
     "text": [
      "0.00136\n"
     ]
    },
    {
     "name": "stderr",
     "output_type": "stream",
     "text": [
      " 80%|████████  | 4014/5000 [00:34<00:08, 115.21it/s]"
     ]
    },
    {
     "name": "stdout",
     "output_type": "stream",
     "text": [
      "0.00136\n"
     ]
    },
    {
     "name": "stderr",
     "output_type": "stream",
     "text": [
      " 90%|█████████ | 4518/5000 [00:39<00:04, 115.39it/s]"
     ]
    },
    {
     "name": "stdout",
     "output_type": "stream",
     "text": [
      "0.00136\n"
     ]
    },
    {
     "name": "stderr",
     "output_type": "stream",
     "text": [
      "100%|██████████| 5000/5000 [00:43<00:00, 115.38it/s]"
     ]
    },
    {
     "name": "stdout",
     "output_type": "stream",
     "text": [
      "diff passed: tensor(32.5364, device='cuda:0', grad_fn=<MeanBackward0>)\n"
     ]
    },
    {
     "name": "stderr",
     "output_type": "stream",
     "text": [
      "\n"
     ]
    },
    {
     "data": {
      "text/plain": [
       "[<matplotlib.lines.Line2D at 0x2b70133a3828>]"
      ]
     },
     "execution_count": 127,
     "metadata": {},
     "output_type": "execute_result"
    },
    {
     "data": {
      "image/png": "[encoded data removed]",
      "text/plain": [
       "<Figure size 432x288 with 1 Axes>"
      ]
     },
     "metadata": {
      "needs_background": "light"
     },
     "output_type": "display_data"
    }
   ],
   "source": [
    "from tqdm import tqdm\n",
    "\n",
    "# img_pil = Image.open('/tmp/skoroki/datasets/ffhq/thumbnails128x128/00000.png')\n",
    "img_pil = Image.open('./water.jpg')\n",
    "img = TVF.to_tensor(img_pil).to(device)\n",
    "gp = GPInterp(img.shape[1], img.shape[2], 0.2, 1.0, 5)\n",
    "gp.to(device)\n",
    "means_old = gp.means.data.cpu().tolist()\n",
    "optim = torch.optim.SGD(gp.parameters(), lr=100.0, momentum=0.9)\n",
    "scheduler = torch.optim.lr_scheduler.StepLR(optim, step_size=500, gamma=0.333)\n",
    "# optim = torch.optim.Adam(gp.parameters(), lr=1000.0)\n",
    "grad_norms = []\n",
    "for i in tqdm(range(5000)):\n",
    "    out = gp(img)\n",
    "    loss = (out - img).pow(2).mean()\n",
    "    optim.zero_grad()\n",
    "    loss.backward()\n",
    "    if np.isnan(gp.means.grad.max().item()):\n",
    "        print('NaN grad!')\n",
    "        break\n",
    "    #torch.nn.utils.clip_grad_norm_(gp.parameters(), 10.0)\n",
    "    if np.isnan(gp.means.grad.max().item()):\n",
    "        print('NaN grad after ...!')\n",
    "        break\n",
    "    grad_norms.append(gp.means.grad.norm().item())\n",
    "    optim.step()\n",
    "    if np.isnan(gp.means.max().item()):\n",
    "        print('NaN weight!')\n",
    "        break\n",
    "    scheduler.step()\n",
    "    gp.means.data[:,0].clamp_(0.0, img.shape[2])\n",
    "    gp.means.data[:,1].clamp_(0.0, img.shape[1])\n",
    "    if i % 500 == 0:\n",
    "        print(f'{loss.item():.05f}')\n",
    "        \n",
    "print('diff passed:', (torch.tensor(means_old).to(device) - gp.means).pow(2).mean())\n",
    "plt.plot(grad_norms)"
   ]
  },
  {
   "cell_type": "code",
   "execution_count": 131,
   "metadata": {},
   "outputs": [],
   "source": [
    "# TVF.to_pil_image(GPInterp(img.shape[1], img.shape[2], 0.2, 1.0, 5).cuda()(img).cpu())"
   ]
  },
  {
   "cell_type": "code",
   "execution_count": 130,
   "metadata": {},
   "outputs": [],
   "source": [
    "# TVF.to_pil_image(out.cpu())"
   ]
  }
 ],
 "metadata": {
  "kernelspec": {
   "display_name": "Python 3",
   "language": "python",
   "name": "python3"
  },
  "language_info": {
   "codemirror_mode": {
    "name": "ipython",
    "version": 3
   },
   "file_extension": ".py",
   "mimetype": "text/x-python",
   "name": "python",
   "nbconvert_exporter": "python",
   "pygments_lexer": "ipython3",
   "version": "3.7.3"
  }
 },
 "nbformat": 4,
 "nbformat_minor": 4
}
