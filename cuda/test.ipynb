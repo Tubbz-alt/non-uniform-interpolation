{
 "cells": [
  {
   "cell_type": "code",
   "execution_count": 1,
   "metadata": {},
   "outputs": [
    {
     "name": "stdout",
     "output_type": "stream",
     "text": [
      "Using /tmp/torch_extensions as PyTorch extensions root...\n",
      "Detected CUDA files, patching ldflags\n",
      "Emitting ninja build file /tmp/torch_extensions/gp_interp_cuda/build.ninja...\n",
      "Building extension module gp_interp_cuda...\n",
      "Allowing ninja to set a default number of workers... (overridable by setting the environment variable MAX_JOBS=N)\n",
      "Loading extension module gp_interp_cuda...\n",
      "Num coords: 4\n",
      "Doing a forward pass...\n",
      "Doing a backward pass...\n",
      "Loss: 0.12815387547016144\n",
      "Success!\n"
     ]
    },
    {
     "data": {
      "text/plain": [
       "<matplotlib.image.AxesImage at 0x2b900d5d2690>"
      ]
     },
     "execution_count": 1,
     "metadata": {},
     "output_type": "execute_result"
    },
    {
     "data": {
      "image/png": "[encoded data removed]",
      "text/plain": [
       "<Figure size 432x288 with 2 Axes>"
      ]
     },
     "metadata": {
      "needs_background": "light"
     },
     "output_type": "display_data"
    }
   ],
   "source": [
    "from torch.utils.cpp_extension import load\n",
    "\n",
    "gp_interp_cuda = load('gp_interp_cuda', ['gp_interp_cuda.cpp', 'gp_interp_cuda_kernel.cu'], verbose=True)\n",
    "\n",
    "import sys; sys.path.extend(['.', '../cuda'])\n",
    "\n",
    "import numpy as np\n",
    "import torch\n",
    "import torch.nn as nn\n",
    "import matplotlib.pyplot as plt\n",
    "from PIL import Image\n",
    "import torchvision.transforms.functional as TVF\n",
    "\n",
    "from gp_interp import GPInterp\n",
    "\n",
    "device = 'cuda'\n",
    "# img_pil = Image.open('/tmp/skoroki/datasets/ffhq/thumbnails128x128/00000.png')\n",
    "# img_pil = Image.open('./water.jpg')\n",
    "# img = TVF.to_tensor(img_pil).to(device)\n",
    "size = 3\n",
    "img = torch.linspace(1, 0, size).view(-1, 1).repeat(1, size).unsqueeze(2).to(device).permute(2, 0, 1)\n",
    "torch.manual_seed(42)\n",
    "img = torch.rand_like(img.cpu()).to(img.device)\n",
    "gp = GPInterp(img.shape[1], img.shape[2], 0.8, 1.0, 1)\n",
    "# gp.means = nn.Parameter(torch.tensor([[1.0, 1.0]]))\n",
    "gp.to(device)\n",
    "\n",
    "print('Num coords:', len(gp.means))\n",
    "\n",
    "print('Doing a forward pass...')\n",
    "out = gp(img)\n",
    "\n",
    "print('Doing a backward pass...')\n",
    "loss = (out - img).abs().mean()\n",
    "loss.backward()\n",
    "print('Loss:', loss.item())\n",
    "print('Success!')\n",
    "\n",
    "# TVF.to_pil_image(out.cpu())\n",
    "plt.subplot(121)\n",
    "plt.imshow(img[0].detach().cpu())\n",
    "\n",
    "plt.subplot(122)\n",
    "plt.imshow(out[0].detach().cpu())"
   ]
  },
  {
   "cell_type": "code",
   "execution_count": 2,
   "metadata": {},
   "outputs": [
    {
     "data": {
      "text/plain": [
       "tensor([[-0.1840, -0.1927],\n",
       "        [ 0.0133,  0.0353],\n",
       "        [-0.0679, -0.0196],\n",
       "        [-0.0719, -0.1241]], device='cuda:0')"
      ]
     },
     "execution_count": 2,
     "metadata": {},
     "output_type": "execute_result"
    }
   ],
   "source": [
    "gp.means.grad"
   ]
  },
  {
   "cell_type": "code",
   "execution_count": 3,
   "metadata": {},
   "outputs": [
    {
     "ename": "NameError",
     "evalue": "name 'tqdm' is not defined",
     "output_type": "error",
     "traceback": [
      "\u001b[0;31m---------------------------------------------------------------------------\u001b[0m",
      "\u001b[0;31mNameError\u001b[0m                                 Traceback (most recent call last)",
      "\u001b[0;32m<ipython-input-3-e7d6e477b8a9>\u001b[0m in \u001b[0;36m<module>\u001b[0;34m\u001b[0m\n\u001b[0;32m----> 1\u001b[0;31m \u001b[0mtqdm\u001b[0m\u001b[0;34m.\u001b[0m\u001b[0m_instances\u001b[0m\u001b[0;34m.\u001b[0m\u001b[0mclear\u001b[0m\u001b[0;34m(\u001b[0m\u001b[0;34m)\u001b[0m\u001b[0;34m\u001b[0m\u001b[0;34m\u001b[0m\u001b[0m\n\u001b[0m",
      "\u001b[0;31mNameError\u001b[0m: name 'tqdm' is not defined"
     ]
    }
   ],
   "source": [
    "tqdm._instances.clear()"
   ]
  },
  {
   "cell_type": "code",
   "execution_count": 4,
   "metadata": {},
   "outputs": [],
   "source": [
    "from tqdm import tqdm\n",
    "import matplotlib.pyplot as plt\n",
    "\n",
    "# img_pil = Image.open('/tmp/skoroki/datasets/ffhq/thumbnails128x128/00000.png')\n",
    "img_pil = Image.open('./water.jpg')\n",
    "img = TVF.to_tensor(img_pil).to(device)\n",
    "gp = GPInterp(img.shape[1], img.shape[2], 0.2, 2.0, 5)\n",
    "gp.to(device)\n",
    "out = gp(img)\n",
    "\n",
    "\n",
    "img_np = np.array(TVF.to_pil_image(out.cpu()))\n",
    "\n",
    "# plt.imshow(img_np)\n",
    "# plt.scatter(gp.means.grid)\n",
    "# TVF.to_pil_image(out.cpu())"
   ]
  },
  {
   "cell_type": "code",
   "execution_count": 25,
   "metadata": {},
   "outputs": [
    {
     "name": "stderr",
     "output_type": "stream",
     "text": [
      "  0%|          | 16/5000 [00:00<01:08, 73.22it/s]"
     ]
    },
    {
     "name": "stdout",
     "output_type": "stream",
     "text": [
      "0.00102\n"
     ]
    },
    {
     "name": "stderr",
     "output_type": "stream",
     "text": [
      "  1%|▏         | 64/5000 [00:00<01:05, 75.91it/s]"
     ]
    },
    {
     "name": "stdout",
     "output_type": "stream",
     "text": [
      "0.00114\n"
     ]
    },
    {
     "name": "stderr",
     "output_type": "stream",
     "text": [
      "  2%|▏         | 112/5000 [00:01<01:10, 69.76it/s]"
     ]
    },
    {
     "name": "stdout",
     "output_type": "stream",
     "text": [
      "0.00125\n"
     ]
    },
    {
     "name": "stderr",
     "output_type": "stream",
     "text": [
      "  3%|▎         | 160/5000 [00:02<01:03, 75.70it/s]"
     ]
    },
    {
     "name": "stdout",
     "output_type": "stream",
     "text": [
      "0.00134\n"
     ]
    },
    {
     "name": "stderr",
     "output_type": "stream",
     "text": [
      "  3%|▎         | 172/5000 [00:02<01:05, 73.73it/s]\n"
     ]
    },
    {
     "ename": "KeyboardInterrupt",
     "evalue": "",
     "output_type": "error",
     "traceback": [
      "\u001b[0;31m---------------------------------------------------------------------------\u001b[0m",
      "\u001b[0;31mKeyboardInterrupt\u001b[0m                         Traceback (most recent call last)",
      "\u001b[0;32m<ipython-input-25-75d31ce4b786>\u001b[0m in \u001b[0;36m<module>\u001b[0;34m\u001b[0m\n\u001b[1;32m     16\u001b[0m     \u001b[0moptim\u001b[0m\u001b[0;34m.\u001b[0m\u001b[0mzero_grad\u001b[0m\u001b[0;34m(\u001b[0m\u001b[0;34m)\u001b[0m\u001b[0;34m\u001b[0m\u001b[0;34m\u001b[0m\u001b[0m\n\u001b[1;32m     17\u001b[0m     \u001b[0mloss\u001b[0m\u001b[0;34m.\u001b[0m\u001b[0mbackward\u001b[0m\u001b[0;34m(\u001b[0m\u001b[0;34m)\u001b[0m\u001b[0;34m\u001b[0m\u001b[0;34m\u001b[0m\u001b[0m\n\u001b[0;32m---> 18\u001b[0;31m     \u001b[0;32mif\u001b[0m \u001b[0mnp\u001b[0m\u001b[0;34m.\u001b[0m\u001b[0misnan\u001b[0m\u001b[0;34m(\u001b[0m\u001b[0mgp\u001b[0m\u001b[0;34m.\u001b[0m\u001b[0mmeans\u001b[0m\u001b[0;34m.\u001b[0m\u001b[0mgrad\u001b[0m\u001b[0;34m.\u001b[0m\u001b[0mmax\u001b[0m\u001b[0;34m(\u001b[0m\u001b[0;34m)\u001b[0m\u001b[0;34m.\u001b[0m\u001b[0mitem\u001b[0m\u001b[0;34m(\u001b[0m\u001b[0;34m)\u001b[0m\u001b[0;34m)\u001b[0m\u001b[0;34m:\u001b[0m\u001b[0;34m\u001b[0m\u001b[0;34m\u001b[0m\u001b[0m\n\u001b[0m\u001b[1;32m     19\u001b[0m         \u001b[0mprint\u001b[0m\u001b[0;34m(\u001b[0m\u001b[0;34m'NaN grad!'\u001b[0m\u001b[0;34m)\u001b[0m\u001b[0;34m\u001b[0m\u001b[0;34m\u001b[0m\u001b[0m\n\u001b[1;32m     20\u001b[0m         \u001b[0;32mbreak\u001b[0m\u001b[0;34m\u001b[0m\u001b[0;34m\u001b[0m\u001b[0m\n",
      "\u001b[0;31mKeyboardInterrupt\u001b[0m: "
     ]
    }
   ],
   "source": [
    "from tqdm import tqdm\n",
    "\n",
    "# img_pil = Image.open('/tmp/skoroki/datasets/ffhq/thumbnails128x128/00000.png')\n",
    "img_pil = Image.open('./water.jpg')\n",
    "img = TVF.to_tensor(img_pil).to(device)\n",
    "gp = GPInterp(img.shape[1], img.shape[2], 0.2, 2.0, 5)\n",
    "gp.to(device)\n",
    "means_old = gp.means.data.cpu().tolist()\n",
    "optim = torch.optim.SGD(gp.parameters(), lr=10.0, momentum=0.9)\n",
    "scheduler = torch.optim.lr_scheduler.StepLR(optim, step_size=500, gamma=0.333)\n",
    "# optim = torch.optim.Adam(gp.parameters(), lr=1000.0)\n",
    "grad_norms = []\n",
    "for i in tqdm(range(5000)):\n",
    "    out = gp(img)\n",
    "    loss = (out - img).pow(2).mean()\n",
    "    optim.zero_grad()\n",
    "    loss.backward()\n",
    "    if np.isnan(gp.means.grad.max().item()):\n",
    "        print('NaN grad!')\n",
    "        break\n",
    "    #torch.nn.utils.clip_grad_norm_(gp.parameters(), 10.0)\n",
    "    if np.isnan(gp.means.grad.max().item()):\n",
    "        print('NaN grad after ...!')\n",
    "        break\n",
    "    grad_norms.append(gp.means.grad.norm().item())\n",
    "    optim.step()\n",
    "    if np.isnan(gp.means.max().item()):\n",
    "        print('NaN weight!')\n",
    "        break\n",
    "    scheduler.step()\n",
    "    gp.means.data[:,0].clamp_(0.0, img.shape[2])\n",
    "    gp.means.data[:,1].clamp_(0.0, img.shape[1])\n",
    "    if i % 50 == 0:\n",
    "        print(f'{loss.item():.05f}')\n",
    "        \n",
    "print('diff passed:', (torch.tensor(means_old).to(device) - gp.means).pow(2).mean())\n",
    "plt.plot(grad_norms)"
   ]
  },
  {
   "cell_type": "code",
   "execution_count": 131,
   "metadata": {},
   "outputs": [],
   "source": [
    "# TVF.to_pil_image(GPInterp(img.shape[1], img.shape[2], 0.2, 1.0, 5).cuda()(img).cpu())"
   ]
  },
  {
   "cell_type": "code",
   "execution_count": 130,
   "metadata": {},
   "outputs": [],
   "source": [
    "# TVF.to_pil_image(out.cpu())"
   ]
  }
 ],
 "metadata": {
  "kernelspec": {
   "display_name": "Python 3",
   "language": "python",
   "name": "python3"
  },
  "language_info": {
   "codemirror_mode": {
    "name": "ipython",
    "version": 3
   },
   "file_extension": ".py",
   "mimetype": "text/x-python",
   "name": "python",
   "nbconvert_exporter": "python",
   "pygments_lexer": "ipython3",
   "version": "3.7.8"
  }
 },
 "nbformat": 4,
 "nbformat_minor": 4
}
