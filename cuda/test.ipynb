{
 "cells": [
  {
   "cell_type": "code",
   "execution_count": null,
   "metadata": {},
   "outputs": [
    {
     "name": "stdout",
     "output_type": "stream",
     "text": [
      "Using /tmp/torch_extensions as PyTorch extensions root...\n",
      "Detected CUDA files, patching ldflags\n",
      "Emitting ninja build file /tmp/torch_extensions/gp_interp_cuda/build.ninja...\n",
      "Building extension module gp_interp_cuda...\n",
      "Allowing ninja to set a default number of workers... (overridable by setting the environment variable MAX_JOBS=N)\n"
     ]
    }
   ],
   "source": [
    "from torch.utils.cpp_extension import load\n",
    "\n",
    "gp_interp_cuda = load('gp_interp_cuda', ['gp_interp_cuda.cpp', 'gp_interp_cuda_kernel.cu'], verbose=True)\n",
    "\n",
    "import sys; sys.path.extend(['.', '../cuda'])\n",
    "\n",
    "import numpy as np\n",
    "import torch\n",
    "import torch.nn as nn\n",
    "import matplotlib.pyplot as plt\n",
    "from PIL import Image\n",
    "import torchvision.transforms.functional as TVF\n",
    "\n",
    "from gp_interp import GPInterp\n",
    "\n",
    "device = 'cuda'\n",
    "img_pil = Image.open('/tmp/skoroki/datasets/ffhq/thumbnails128x128/00000.png')\n",
    "img = TVF.to_tensor(img_pil).to(device)\n",
    "gp = GPInterp(img.shape[1], img.shape[2], img.shape[0], 0.33, 1.0, 5)\n",
    "gp.to(device)\n",
    "\n",
    "print('Num coords:', len(gp.means))\n",
    "\n",
    "print('Doing a forward pass...')\n",
    "out = gp(img)\n",
    "\n",
    "print('Doing a backward pass...')\n",
    "loss = (out - img).abs().mean()\n",
    "loss.backward()\n",
    "print('Loss:', loss.item())\n",
    "print('Success!')\n",
    "\n",
    "TVF.to_pil_image(out.cpu())"
   ]
  },
  {
   "cell_type": "code",
   "execution_count": null,
   "metadata": {},
   "outputs": [],
   "source": [
    "TVF.to_pil_image(out.cpu())"
   ]
  }
 ],
 "metadata": {
  "kernelspec": {
   "display_name": "Python 3",
   "language": "python",
   "name": "python3"
  },
  "language_info": {
   "codemirror_mode": {
    "name": "ipython",
    "version": 3
   },
   "file_extension": ".py",
   "mimetype": "text/x-python",
   "name": "python",
   "nbconvert_exporter": "python",
   "pygments_lexer": "ipython3",
   "version": "3.7.3"
  }
 },
 "nbformat": 4,
 "nbformat_minor": 4
}
